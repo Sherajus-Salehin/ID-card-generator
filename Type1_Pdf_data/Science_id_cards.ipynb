{
  "cells": [
    {
      "cell_type": "code",
      "execution_count": 1,
      "metadata": {
        "colab": {
          "base_uri": "https://localhost:8080/"
        },
        "id": "esFsNhU5u9Gz",
        "outputId": "2cf8c920-7768-421d-d116-72032b4e2d5c"
      },
      "outputs": [
        {
          "name": "stdout",
          "output_type": "stream",
          "text": [
            "Requirement already satisfied: pyPDF2 in c:\\python39\\lib\\site-packages (3.0.1)Note: you may need to restart the kernel to use updated packages.\n",
            "\n",
            "Requirement already satisfied: typing_extensions>=3.10.0.0 in c:\\python39\\lib\\site-packages (from pyPDF2) (4.7.1)\n"
          ]
        },
        {
          "name": "stderr",
          "output_type": "stream",
          "text": [
            "WARNING: Ignoring invalid distribution -ip (c:\\python39\\lib\\site-packages)\n",
            "WARNING: Ignoring invalid distribution -ip (c:\\python39\\lib\\site-packages)\n",
            "\n",
            "[notice] A new release of pip available: 22.2.2 -> 24.2\n",
            "[notice] To update, run: python.exe -m pip install --upgrade pip\n"
          ]
        }
      ],
      "source": [
        "pip install pyPDF2"
      ]
    },
    {
      "cell_type": "markdown",
      "metadata": {
        "id": "wsPRcE0-iax1"
      },
      "source": [
        "#Loading pdf data"
      ]
    },
    {
      "cell_type": "code",
      "execution_count": 1,
      "metadata": {
        "colab": {
          "base_uri": "https://localhost:8080/"
        },
        "id": "5WkJd2tYylUn",
        "outputId": "0a24cc70-f9e7-47cb-cf6c-a3c0a97319a3"
      },
      "outputs": [
        {
          "name": "stdout",
          "output_type": "stream",
          "text": [
            "3\n"
          ]
        }
      ],
      "source": [
        "import PyPDF2\n",
        "sci=open(r'C:\\Users\\Sherajus Salehin\\Desktop\\Project documentation\\ID card generator\\ID-card-generator\\Type1_Pdf_data\\data\\testPDFfile.pdf','rb')\n",
        "sciReader=PyPDF2.PdfReader(sci)\n",
        "pageC=len(sciReader.pages)\n",
        "print(pageC)"
      ]
    },
    {
      "cell_type": "code",
      "execution_count": 2,
      "metadata": {
        "id": "MSj9TY9Bw05w"
      },
      "outputs": [],
      "source": [
        "sBook=[]\n",
        "for i in range (pageC):\n",
        "  sBook.append(sciReader.pages[i].extract_text()) #pdf often fails to hold its table structures as people format it wrong. So, i'll\n",
        "                                                  # use text patterns to detect proper feilds. algorithm varies from file to file.\n",
        "  #print(sBook[22])"
      ]
    },
    {
      "cell_type": "code",
      "execution_count": null,
      "metadata": {
        "id": "hl93nX2tzvNB"
      },
      "outputs": [],
      "source": [
        "#page1=sciReader.pages[22]\n",
        "#pg1Txt=page1.extract_text()\n",
        "#print(pg1Txt)\n",
        "#sci.close()"
      ]
    },
    {
      "cell_type": "code",
      "execution_count": 3,
      "metadata": {
        "colab": {
          "base_uri": "https://localhost:8080/"
        },
        "id": "eIL1uyN01p1C",
        "outputId": "1ee8825a-19fa-4922-dc56-9cc2b9f77b5d"
      },
      "outputs": [
        {
          "name": "stdout",
          "output_type": "stream",
          "text": [
            "[['1 of 23Board of Intermediate & Secondary Education, Mymensingh', 'Nandina Shaikh Anwar Hossain College (109991),', 'Registration-2023', '(Final List)', 'No. of Science students : 154', 'Sl.', 'No.eSIF', 'Sl.Name', 'GenderSection', 'Class', 'RollSubject OpitonalGroupPhotoSignature', '11Test student1', 'FA', '1101,102,107,108,275,174,175,176,177,178,179,265,266 265Science', '22Test student2', 'FA', '2101,102,107,108,275,174,175,176,177,178,179,265,266 265Science', '33Test student3', 'FA', '3101,102,107,108,275,174,175,176,177,178,179,265,266 265Science', '44Test student4', 'FA', '4101,102,107,108,275,174,175,176,177,178,179,265,266 265Science', '55Test student5', 'FA', '5101,102,107,108,275,174,175,176,177,178,179,265,266 265ScienceTest student1', 's__qube'], ['2 of 23Sl.', 'No.eSIF', 'Sl.Name', 'GenderSection', 'Class', 'RollSubject OpitonalGroupPhotoSignature', '66Test student 6', 'FA', '6101,102,107,108,275,174,175,176,177,178,179,265,266 265Science', '77Test student 7', 'FA', '7101,102,107,108,275,174,175,176,177,178,179,265,266 265Science', '88Test student8', 'FA', '8101,102,107,108,275,174,175,176,177,178,179,265,266 265Science', '99Test student9', 'FA', '9101,102,107,108,275,174,175,176,177,178,179,265,266 265Science', '1010Test student10', 'FA', '10101,102,107,108,275,174,175,176,177,178,179,265,266 265Science', '1111Test student11', 'FA', '11101,102,107,108,275,174,175,176,177,178,179,265,266 265Science', '1212Test student12', 'FA', '12101,102,107,108,275,174,175,176,177,178,179,265,266 265Science', 's__qube'], ['3 of 23Sl.', 'No.eSIF', 'Sl.Name', 'Father Name', 'Mother NameGenderSection', 'Class', 'RollSubject OpitonalGroupPhotoSignature', '1313Test student13', 'FA', '13101,102,107,108,275,174,175,176,177,178,179,265,266 265Science', '1414Test student14', 'FA', '14101,102,107,108,275,174,175,176,177,178,179,265,266 265Science', '1515Test student15', 'FA', '15101,102,107,108,275,174,175,176,177,178,179,265,266 265Science', 's__qube']]\n"
          ]
        }
      ],
      "source": [
        "word_list=[]\n",
        "for i in range (pageC):\n",
        "  word_list.append(sBook[i].splitlines())\n",
        "#word_list=pg1Txt.splitlines()\n",
        "print(word_list)"
      ]
    },
    {
      "cell_type": "code",
      "execution_count": 4,
      "metadata": {
        "colab": {
          "base_uri": "https://localhost:8080/"
        },
        "id": "_JDtwlTs7z4Z",
        "outputId": "88c11daf-e2c8-46ba-ca65-4483dbdbe702"
      },
      "outputs": [
        {
          "data": {
            "text/plain": [
              "['1 of 23Board of Intermediate & Secondary Education, Mymensingh',\n",
              " 'Nandina Shaikh Anwar Hossain College (109991),',\n",
              " 'Registration-2023',\n",
              " '(Final List)',\n",
              " 'No. of Science students : 154',\n",
              " 'Sl.',\n",
              " 'No.eSIF',\n",
              " 'Sl.Name',\n",
              " 'GenderSection',\n",
              " 'Class',\n",
              " 'RollSubject OpitonalGroupPhotoSignature',\n",
              " '11Test student1',\n",
              " 'FA',\n",
              " '1101,102,107,108,275,174,175,176,177,178,179,265,266 265Science',\n",
              " '22Test student2',\n",
              " 'FA',\n",
              " '2101,102,107,108,275,174,175,176,177,178,179,265,266 265Science',\n",
              " '33Test student3',\n",
              " 'FA',\n",
              " '3101,102,107,108,275,174,175,176,177,178,179,265,266 265Science',\n",
              " '44Test student4',\n",
              " 'FA',\n",
              " '4101,102,107,108,275,174,175,176,177,178,179,265,266 265Science',\n",
              " '55Test student5',\n",
              " 'FA',\n",
              " '5101,102,107,108,275,174,175,176,177,178,179,265,266 265ScienceTest student1',\n",
              " 's__qube']"
            ]
          },
          "execution_count": 4,
          "metadata": {},
          "output_type": "execute_result"
        }
      ],
      "source": [
        "word_list[0]"
      ]
    },
    {
      "cell_type": "code",
      "execution_count": null,
      "metadata": {
        "id": "LeBKo3qrNz5z"
      },
      "outputs": [],
      "source": []
    },
    {
      "cell_type": "markdown",
      "metadata": {
        "id": "8s629Ec3N0md"
      },
      "source": [
        "#Formatting data for easy list access"
      ]
    },
    {
      "cell_type": "code",
      "execution_count": 5,
      "metadata": {
        "id": "imHSv7zyaamY"
      },
      "outputs": [],
      "source": [
        "#Configure loop -done\n",
        "for j in range(pageC):\n",
        "  x=word_list[j].index('RollSubject OpitonalGroupPhotoSignature') #observe where the list actually starts and mark the previous pattern.\n",
        "  for i in range (x+1):\n",
        "    word_list[j].pop(0)\n",
        "#print((x))\n",
        "# all pages of word list now has pure student data for extraction ranging from page 0-22"
      ]
    },
    {
      "cell_type": "code",
      "execution_count": 6,
      "metadata": {
        "colab": {
          "base_uri": "https://localhost:8080/"
        },
        "id": "2ISQ-m3jcehG",
        "outputId": "e69074db-ca63-4980-b200-4a550024390d"
      },
      "outputs": [
        {
          "name": "stdout",
          "output_type": "stream",
          "text": [
            "['1313Test student13', 'FA', '13101,102,107,108,275,174,175,176,177,178,179,265,266 265Science', '1414Test student14', 'FA', '14101,102,107,108,275,174,175,176,177,178,179,265,266 265Science', '1515Test student15', 'FA', '15101,102,107,108,275,174,175,176,177,178,179,265,266 265Science', 's__qube']\n"
          ]
        }
      ],
      "source": [
        "print(word_list[2])"
      ]
    },
    {
      "cell_type": "code",
      "execution_count": null,
      "metadata": {
        "colab": {
          "base_uri": "https://localhost:8080/",
          "height": 36
        },
        "id": "jTq1QtPyfK5G",
        "outputId": "0563421f-b109-420c-ed31-2d7c7bc7224f"
      },
      "outputs": [],
      "source": [
        "word_list[20][3]# need to traverse 4 indexex(0-3) to accesss all info of  a student total traversal should be length of that page%4"
      ]
    },
    {
      "cell_type": "code",
      "execution_count": 33,
      "metadata": {
        "colab": {
          "base_uri": "https://localhost:8080/"
        },
        "id": "wn07DDdCk6Vy",
        "outputId": "32850ccf-4e74-4d9c-97aa-2e092ca52b3c"
      },
      "outputs": [
        {
          "data": {
            "text/plain": [
              "5"
            ]
          },
          "execution_count": 33,
          "metadata": {},
          "output_type": "execute_result"
        }
      ],
      "source": [
        "round(len(word_list[0])/3)"
      ]
    },
    {
      "cell_type": "code",
      "execution_count": 8,
      "metadata": {
        "colab": {
          "base_uri": "https://localhost:8080/"
        },
        "id": "l0n3stK_mclK",
        "outputId": "9401c887-ceea-450b-9cdc-cd7e56b38e1c"
      },
      "outputs": [
        {
          "data": {
            "text/plain": [
              "['44Test student4',\n",
              " 'FA',\n",
              " '4101,102,107,108,275,174,175,176,177,178,179,265,266 265Science']"
            ]
          },
          "execution_count": 8,
          "metadata": {},
          "output_type": "execute_result"
        }
      ],
      "source": [
        "word_list[0][9:12]"
      ]
    },
    {
      "cell_type": "code",
      "execution_count": null,
      "metadata": {
        "colab": {
          "base_uri": "https://localhost:8080/"
        },
        "id": "YVF0VOHusO5b",
        "outputId": "d726d6ed-348f-438d-b417-34becfc8a6ef"
      },
      "outputs": [
        {
          "data": {
            "text/plain": [
              "['147 178MD. JONAYED MAHATAB RATUL',\n",
              " 'MD. BELLAL HOSSEN',\n",
              " 'NAZMUN NAHARMA',\n",
              " '178101,102,107,108,275,174,175,176,177,178,179,265,266 265 Science']"
            ]
          },
          "execution_count": 54,
          "metadata": {},
          "output_type": "execute_result"
        }
      ],
      "source": [
        "#optional testing\n",
        "#data and code fixing block\n",
        "#print(opt)\n",
        "#cPage=word_list[2]\n",
        "#cPage[4]=cPage[4]+' '+cPage[5]\n",
        "#x=cPage[4:8]\n",
        "#opt=x[3][-11:-7]\n",
        "#print(x)\n",
        "#word_list[2][4:8]\n",
        "#word_list[2][4]=word_list[2][4]+' '+word_list[2][5]\n",
        "#word_list[2].pop(5)\n",
        "#word_list[13][8]=word_list[13][8]+' '+word_list[13][9]\n",
        "#word_list[13][8:12]    big name\n",
        "#word_list[18].pop(6)\n",
        "#word_list[21][4]=word_list[21][4]+word_list[21][5]\n",
        "#word_list[21].pop(5)\n",
        "#word_list[21][4:8]\n",
        "#word_list[21][4:8]\n",
        "#testList=[]\n",
        "#quad1=['name','roll','section','group']\n",
        "#quad2=['name2','roll2','section2','group2']\n",
        "#testList.append(quad1)\n",
        "#testList.append([1,2,3,4])\n",
        "#testList.append([5,6,'helo',8])\n",
        "#print(testList)"
      ]
    },
    {
      "cell_type": "code",
      "execution_count": 10,
      "metadata": {
        "id": "xrK52A3hq4YR"
      },
      "outputs": [
        {
          "name": "stdout",
          "output_type": "stream",
          "text": [
            "\n",
            "student name: Test student1\n",
            "roll        : 1\n",
            "group       : Science\n",
            "Section     : A\n",
            "optional    : Higher Math\n",
            "\n",
            "student name: Test student2\n",
            "roll        : 2\n",
            "group       : Science\n",
            "Section     : A\n",
            "optional    : Higher Math\n",
            "\n",
            "student name: Test student3\n",
            "roll        : 3\n",
            "group       : Science\n",
            "Section     : A\n",
            "optional    : Higher Math\n",
            "\n",
            "student name: Test student4\n",
            "roll        : 4\n",
            "group       : Science\n",
            "Section     : A\n",
            "optional    : Higher Math\n",
            "\n",
            "student name: Test student5\n",
            "roll        : 5\n",
            "group       : Science\n",
            "Section     : A\n",
            "optional    :  \n",
            "\n",
            "student name: Test student 6\n",
            "roll        : 6\n",
            "group       : Science\n",
            "Section     : A\n",
            "optional    : Higher Math\n",
            "\n",
            "student name: Test student 7\n",
            "roll        : 7\n",
            "group       : Science\n",
            "Section     : A\n",
            "optional    : Higher Math\n",
            "\n",
            "student name: Test student8\n",
            "roll        : 8\n",
            "group       : Science\n",
            "Section     : A\n",
            "optional    : Higher Math\n",
            "\n",
            "student name: Test student9\n",
            "roll        : 9\n",
            "group       : Science\n",
            "Section     : A\n",
            "optional    : Higher Math\n",
            "\n",
            "student name: Test student10\n",
            "roll        : 10\n",
            "group       : Science\n",
            "Section     : A\n",
            "optional    : Higher Math\n",
            "\n",
            "student name: Test student11\n",
            "roll        : 11\n",
            "group       : Science\n",
            "Section     : A\n",
            "optional    : Higher Math\n",
            "\n",
            "student name: Test student12\n",
            "roll        : 12\n",
            "group       : Science\n",
            "Section     : A\n",
            "optional    : Higher Math\n",
            "\n",
            "student name: Test student13\n",
            "roll        : 13\n",
            "group       : Science\n",
            "Section     : A\n",
            "optional    : Higher Math\n",
            "\n",
            "student name: Test student14\n",
            "roll        : 14\n",
            "group       : Science\n",
            "Section     : A\n",
            "optional    : Higher Math\n",
            "\n",
            "student name: Test student15\n",
            "roll        : 15\n",
            "group       : Science\n",
            "Section     : A\n",
            "optional    : Higher Math\n"
          ]
        }
      ],
      "source": [
        "#configure a loop for a whole page\n",
        "sci=[]\n",
        "for k in range(pageC):\n",
        "  #traverse per page\n",
        "  #current page\n",
        "  cPage=word_list[k]\n",
        "  o=round(len(cPage)/3)\n",
        "  i=0\n",
        "  for l in range(o):\n",
        "    j=i+3\n",
        "    x=cPage[i:j]#taking individual student\n",
        "    y=x[2].split(',')#for roll\n",
        "    n=len(y[0]) #here 4 means the roll is a number consisting only 1 digit, 5 means 2 digit roll and 6 means 3 digit roll\n",
        "    student_name=x[0][((n-3)*2):]#name starts after the amount of digits in student roll determined by upper loop.\n",
        "    roll=str(y[0][:(n-3)])#roll stops after its digit count.\n",
        "    #group=\"science\" #the whole book is about science group\n",
        "    section= x[1][-1:]\n",
        "    opt=x[2][-11:-7]\n",
        "    try:\n",
        "      if(int(opt)==265):\n",
        "        optional=\"Higher Math\"\n",
        "      elif(int(opt)==178):\n",
        "        optional=\"Biology\"\n",
        "      else:\n",
        "        optional=str(opt)\n",
        "    except:\n",
        "      #make a list for problematic entries\n",
        "      optional=' '\n",
        "    i=i+3\n",
        "    #save student info in an array\n",
        "    si=0\n",
        "    sci.append([student_name,roll,section,optional])\n",
        "\n",
        "    print(\"\\nstudent name: \"+student_name+\"\\nroll        : \"+roll+\"\\ngroup       : Science\"+\"\\nSection     : \"+section+\"\\noptional    : \"+str(optional))"
      ]
    },
    {
      "cell_type": "markdown",
      "metadata": {
        "id": "evEemzqrOWXa"
      },
      "source": [
        "#To reuse the list in txt format"
      ]
    },
    {
      "cell_type": "code",
      "execution_count": null,
      "metadata": {
        "colab": {
          "base_uri": "https://localhost:8080/"
        },
        "id": "wENClf9VMCD8",
        "outputId": "3490913b-b378-4723-9287-c513a747a094"
      },
      "outputs": [],
      "source": [
        "newBook=open('text file location here','r')\n",
        "bookString=newBook.read()\n",
        "StringList=bookString.splitlines()\n",
        "sList=[]\n",
        "length=len(StringList)/4\n",
        "\n",
        "for i in range (int(length)):\n",
        "  obj1=StringList.pop()\n",
        "  obj2=StringList.pop()\n",
        "  obj3=StringList.pop()\n",
        "  obj4=StringList.pop()\n",
        "  sList.append([obj4,obj3,obj2,obj1])\n",
        "sList.reverse()\n",
        "print(sList)\n",
        "newBook.close()"
      ]
    },
    {
      "cell_type": "code",
      "execution_count": null,
      "metadata": {
        "colab": {
          "base_uri": "https://localhost:8080/"
        },
        "id": "xyXZh_o7ZZaQ",
        "outputId": "0cf0b22d-7ef4-484d-e617-1498265b5123"
      },
      "outputs": [],
      "source": [
        "sList[15]"
      ]
    },
    {
      "cell_type": "markdown",
      "metadata": {
        "id": "uyMqmV1wOr7Z"
      },
      "source": [
        "#Card generation"
      ]
    },
    {
      "cell_type": "code",
      "execution_count": 12,
      "metadata": {
        "id": "wxFZvTuOawzs"
      },
      "outputs": [],
      "source": [
        "#card generation\n",
        "import pandas as pd\n",
        "#import cv2\n",
        "from matplotlib import pyplot as plt #imported because cv2 imshow doesnt work in colab\n",
        "import os\n",
        "from PIL import Image, ImageDraw, ImageFont\n",
        "parent=r'C:\\Users\\Sherajus Salehin\\Desktop\\Project documentation\\ID card generator\\ID-card-generator'\n",
        "images=parent+'\\student photos'"
      ]
    },
    {
      "cell_type": "code",
      "execution_count": null,
      "metadata": {
        "id": "aB8goB7LEjYc"
      },
      "outputs": [],
      "source": [
        "#look discarded code in parent"
      ]
    },
    {
      "cell_type": "code",
      "execution_count": null,
      "metadata": {
        "id": "Sv5rKCSILWmD"
      },
      "outputs": [],
      "source": [
        "#photo loading test\n",
        "#photoPath=images'\n",
        "#img1=cv2.imread(os.path.join(images,'01.JPG')) #joining path+filename\n",
        "#img1RGB=cv2.cvtColor(img1,cv2.COLOR_BGR2RGB)\n",
        "#plt.imshow(img1RGB)\n",
        "#plt.axis('off')\n",
        "#plt.show()"
      ]
    },
    {
      "cell_type": "code",
      "execution_count": 16,
      "metadata": {
        "colab": {
          "base_uri": "https://localhost:8080/",
          "height": 36
        },
        "id": "I-pjjWBqTSOc",
        "outputId": "acb830a8-002d-4e58-a5db-b450868709ac"
      },
      "outputs": [
        {
          "data": {
            "text/plain": [
              "'Higher Math'"
            ]
          },
          "execution_count": 16,
          "metadata": {},
          "output_type": "execute_result"
        }
      ],
      "source": [
        "sci[10][3]"
      ]
    },
    {
      "cell_type": "code",
      "execution_count": null,
      "metadata": {
        "id": "OSoItIyttscG"
      },
      "outputs": [],
      "source": [
        "#test block\n",
        "#sid=2\n",
        "#try:\n",
        "#  #sci[student number][info number 0:name 1:roll 2:section 3:optional]\n",
        "#  x='0'+str(sList[sid][1])+\".JPG\"#load student image by roll\n",
        "#  front_photo = Image.open(os.path.join(images,x))\n",
        "#except:\n",
        "#  x=parent+'/Templates/blank Template.jpg'\n",
        "#  front_photo = Image.open(os.path.join(images,x))"
      ]
    },
    {
      "cell_type": "code",
      "execution_count": null,
      "metadata": {
        "id": "fBzc43nAt1g2"
      },
      "outputs": [],
      "source": [
        "front_photo"
      ]
    },
    {
      "cell_type": "code",
      "execution_count": null,
      "metadata": {
        "colab": {
          "base_uri": "https://localhost:8080/"
        },
        "id": "IDQC7gsJgG0v",
        "outputId": "9877a8a8-c9ea-46ff-96b6-e74e24dca9be"
      },
      "outputs": [],
      "source": [
        "len(sci)\n",
        "Image.open(parent+'\\card_template.jpg')"
      ]
    },
    {
      "cell_type": "code",
      "execution_count": 20,
      "metadata": {},
      "outputs": [
        {
          "data": {
            "text/plain": [
              "'C:\\\\Users\\\\Sherajus Salehin\\\\Desktop\\\\Project documentation\\\\ID card generator\\\\ID-card-generator'"
            ]
          },
          "execution_count": 20,
          "metadata": {},
          "output_type": "execute_result"
        }
      ],
      "source": [
        "parent"
      ]
    },
    {
      "cell_type": "code",
      "execution_count": 31,
      "metadata": {
        "id": "8XfbH9uGSUd8"
      },
      "outputs": [],
      "source": [
        "width = 2026\n",
        "height = 638\n",
        "dpi = 300\n",
        "font = ImageFont.truetype(r\"C:\\Users\\Sherajus Salehin\\Desktop\\Project documentation\\ID card generator\\ID-card-generator\\fonts\\times-new-roman-grassetto.ttf\", 38)  # Use any font of your choice\n",
        "font1= ImageFont.truetype(r\"C:\\Users\\Sherajus Salehin\\Desktop\\Project documentation\\ID card generator\\ID-card-generator\\fonts\\times-new-roman.ttf\", 38)\n",
        "main_photo = Image.open(parent+'\\card_template.jpg')\n",
        "#sci=sList\n",
        "files_made=[]\n",
        "#sid=154\n",
        "sc=len(sci)\n",
        "for sid in range(sc):\n",
        "  card = Image.new('RGB', (width, height), color='white')\n",
        "  card.paste(main_photo, (0, 0))\n",
        "\n",
        "  # student index\n",
        "\n",
        "  try:\n",
        "    #sci[student number][info number 0:name 1:roll 2:section 3:optional]\n",
        "    sd=sci[sid][1]\n",
        "    if(int(sd)<10):\n",
        "      x='0'+str(sd)+\".JPG\"#load student image by roll\n",
        "    else:\n",
        "      x=str(sd)+\".JPG\"\n",
        "    front_photo = Image.open(os.path.join(images,x))\n",
        "  except:\n",
        "    x=parent+'//blank Template.jpg'\n",
        "    front_photo = Image.open(os.path.join(images,x))\n",
        "  front_photo = front_photo.resize((225, 300))  # Resize to 0.5x\n",
        "  card.paste(front_photo, (750, 225))\n",
        "\n",
        "  # Draw text \"Name field\"\n",
        "  draw = ImageDraw.Draw(card)\n",
        "  draw.text((20, 225), sci[sid][0], font=font, fill=\"black\")\n",
        "\n",
        "  # Draw text \"roll\"\n",
        "  draw.text((100, 375), str(sci[sid][1]), font=font1, fill=\"black\")\n",
        "\n",
        "  # Draw text \"section\"\n",
        "  draw.text((150, 422), str(sci[sid][2]), font=font1, fill=\"black\")\n",
        "  # Draw text \"optional\"\n",
        "  #draw.text((190, 478), str(sci[sid][3]), font=font1, fill=\"black\")\n",
        "\n",
        "  # Save the final card\n",
        "  j=sd\n",
        "  #output_dir=parent+'/test/out'\n",
        "  #fix output naming if you ever get back to this project[add condition for digit count in a number]\n",
        "  output_dir=parent+'\\\\Type1_Pdf_data\\\\test_output' #set back to H\n",
        "  output_filename = os.path.join(output_dir, f\"S_{j}.jpg\")\n",
        "\n",
        "  card.save(output_filename)\n",
        "  files_made.append(output_filename)\n",
        "#card.show(output_filename)\n",
        "#performance record: no gpu 39s , T4 gpu: 56s, no gpu run2 1min32s"
      ]
    },
    {
      "cell_type": "code",
      "execution_count": null,
      "metadata": {
        "colab": {
          "base_uri": "https://localhost:8080/",
          "height": 36
        },
        "id": "cBX5dc9rz_Pq",
        "outputId": "3d37a470-a22c-47e0-8558-f75a71c78718"
      },
      "outputs": [
        {
          "data": {
            "application/vnd.google.colaboratory.intrinsic+json": {
              "type": "string"
            },
            "text/plain": [
              "'/content/drive/MyDrive/projects2023/IDGen2024/test/out/i_3.jpg'"
            ]
          },
          "execution_count": 135,
          "metadata": {},
          "output_type": "execute_result"
        }
      ],
      "source": [
        "output_filename"
      ]
    },
    {
      "cell_type": "markdown",
      "metadata": {
        "id": "GgzSxZ4hQWzf"
      },
      "source": [
        "#Binding cards"
      ]
    },
    {
      "cell_type": "code",
      "execution_count": null,
      "metadata": {
        "id": "20B2BUfZRbXz"
      },
      "outputs": [],
      "source": [
        "#test bind\n",
        "idspath='/content/drive/MyDrive/projects2023/IDGEN/Output cards/S'\n",
        "card = Image.new('RGB', (2480, 3508), color='white')\n",
        "card1=Image.open('/content/drive/MyDrive/projects2023/IDGen2024/test/out/i_1.jpg')\n",
        "card2=Image.open('/content/drive/MyDrive/projects2023/IDGen2024/test/out/i_185.jpg')\n",
        "card3=Image.open('/content/drive/MyDrive/projects2023/IDGen2024/test/out/i_2.jpg')\n",
        "card4=Image.open('/content/drive/MyDrive/projects2023/IDGen2024/test/out/i_99.jpg')\n",
        "card5=Image.open('/content/drive/MyDrive/projects2023/IDGen2024/test/out/i_85.jpg')\n",
        "\n",
        "card.paste(card1,(150,100))\n",
        "card.paste(card2,(150,758))\n",
        "card.paste(card3,(150,1416))\n",
        "card.paste(card4,(150,2074))\n",
        "card.paste(card5,(150,2732))\n",
        "output_dir='/content/drive/MyDrive/projects2023/IDGen2024/test/out'\n",
        "output_filename = os.path.join(output_dir, f\"Bind_{i}.jpg\")\n",
        "card.save(output_filename)"
      ]
    },
    {
      "cell_type": "code",
      "execution_count": null,
      "metadata": {
        "id": "wxQmu2rdZgNX"
      },
      "outputs": [],
      "source": [
        "#enlist cards\n"
      ]
    },
    {
      "cell_type": "code",
      "execution_count": null,
      "metadata": {
        "colab": {
          "base_uri": "https://localhost:8080/",
          "height": 36
        },
        "id": "fJg2-VN7bv8H",
        "outputId": "c4a35b9c-9580-4c61-be7c-a06b0ae262cf"
      },
      "outputs": [
        {
          "data": {
            "application/vnd.google.colaboratory.intrinsic+json": {
              "type": "string"
            },
            "text/plain": [
              "'/content/drive/MyDrive/projects2023/IDGen2024/Output cards/Science/S_3.jpg'"
            ]
          },
          "execution_count": 9,
          "metadata": {},
          "output_type": "execute_result"
        }
      ],
      "source": [
        "files_made[2]"
      ]
    },
    {
      "cell_type": "code",
      "execution_count": 35,
      "metadata": {
        "colab": {
          "base_uri": "https://localhost:8080/"
        },
        "id": "eT5qtAEsbLXu",
        "outputId": "ad4edcde-e6cc-466c-f667-1b7c3e16d690"
      },
      "outputs": [
        {
          "data": {
            "text/plain": [
              "15"
            ]
          },
          "execution_count": 35,
          "metadata": {},
          "output_type": "execute_result"
        }
      ],
      "source": [
        "len(files_made)"
      ]
    },
    {
      "cell_type": "code",
      "execution_count": 34,
      "metadata": {},
      "outputs": [
        {
          "data": {
            "text/plain": [
              "'C:\\\\Users\\\\Sherajus Salehin\\\\Desktop\\\\Project documentation\\\\ID card generator\\\\ID-card-generator\\\\Type1_Pdf_data\\\\output'"
            ]
          },
          "execution_count": 34,
          "metadata": {},
          "output_type": "execute_result"
        }
      ],
      "source": [
        "idspath=parent+r'\\Type1_Pdf_data\\output'\n",
        "idspath"
      ]
    },
    {
      "cell_type": "code",
      "execution_count": 36,
      "metadata": {
        "id": "FthlLavkQaDA"
      },
      "outputs": [],
      "source": [
        "#making a page\n",
        "#31 pages for Science\n",
        "\n",
        "idspath=parent+r'\\Type1_Pdf_data\\output'\n",
        "j=0 #total ids 15\n",
        "i=0 #total pages\n",
        "max=sc\n",
        "pc=round(sc/5)\n",
        "for i in range(pc):\n",
        "  card = Image.new('RGB', (2480, 3508), color='white')\n",
        "  if(j<max):#\n",
        "    #ids=\"S_\"+str(j)+\".jpg\"\n",
        "    card1=Image.open(files_made[j])\n",
        "    card.paste(card1,(150,100))#\n",
        "    j=j+1\n",
        "    if(j<max):\n",
        "      #ids=\"S_\"+str(j)+\".jpg\"\n",
        "      card1=Image.open(files_made[j])\n",
        "      card.paste(card1,(150,758))#\n",
        "      j=j+1\n",
        "      if(j<max):\n",
        "        #ids=\"S_\"+str(j)+\".jpg\"\n",
        "        card1=Image.open(files_made[j])\n",
        "        card.paste(card1,(150,1416))#\n",
        "        j=j+1\n",
        "        if(j<max):\n",
        "          #ids=\"S_\"+str(j)+\".jpg\"\n",
        "          card1=Image.open(files_made[j])\n",
        "          card.paste(card1,(150,2074))#\n",
        "          j=j+1\n",
        "          if(j<max):\n",
        "            #ids=\"S_\"+str(j)+\".jpg\"\n",
        "            card1=Image.open(files_made[j])\n",
        "            card.paste(card1,(150,2732))#\n",
        "            j=j+1\n",
        "  # the loop looks inefficient but brain is not braining now\n",
        "  output_dir=parent+r'\\Type1_Pdf_data\\output'\n",
        "  output_filename = os.path.join(output_dir, f\"S_{i}.jpg\")\n",
        "  card.save(output_filename)\n",
        "  #card.show(\"output_card.jpg\")"
      ]
    }
  ],
  "metadata": {
    "colab": {
      "provenance": []
    },
    "kernelspec": {
      "display_name": "Python 3",
      "name": "python3"
    },
    "language_info": {
      "codemirror_mode": {
        "name": "ipython",
        "version": 3
      },
      "file_extension": ".py",
      "mimetype": "text/x-python",
      "name": "python",
      "nbconvert_exporter": "python",
      "pygments_lexer": "ipython3",
      "version": "3.9.7"
    }
  },
  "nbformat": 4,
  "nbformat_minor": 0
}
